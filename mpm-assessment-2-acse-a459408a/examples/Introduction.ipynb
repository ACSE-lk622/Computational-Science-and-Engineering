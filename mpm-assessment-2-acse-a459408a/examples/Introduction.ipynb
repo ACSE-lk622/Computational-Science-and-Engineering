{
 "cells": [
  {
   "cell_type": "code",
   "execution_count": 34,
   "id": "53fd4c55",
   "metadata": {},
   "outputs": [],
   "source": [
    "import functions as f \n",
    "# This module implement basic matrix operation, such as multiplication, determinant, inverse, solve linear equation, adjugate"
   ]
  },
  {
   "cell_type": "code",
   "execution_count": 35,
   "id": "9e612e49",
   "metadata": {},
   "outputs": [],
   "source": [
    "def det(a):\n",
    "    \"\"\"\n",
    "    Given a martix `a`, return its determinat or `None` if its\n",
    "    determinant does not exist.\n",
    "\n",
    "    Parameters\n",
    "    ----------\n",
    "    a : np.array or list of lists\n",
    "        'n x m' array\n",
    "\n",
    "    Returns\n",
    "    -------\n",
    "    det : np.float64 or None\n",
    "        The determinant of `a`.\n",
    "\n",
    "    Examples\n",
    "    --------\n",
    "    >>> a = [[2, 0, -1], [0, 5, 6], [0, -1, 1]]\n",
    "    >>> d = det(a)\n",
    "    >>> d\n",
    "    22\n",
    "    >>> b = [[2, 2, -3], [1, 5, 3], [2, -4, 1]]\n",
    "    >>> c = det(b)\n",
    "    >>> c\n",
    "    86\n",
    "\n",
    "    Notes\n",
    "    -----\n",
    "    See https://en.wikipedia.org/wiki/Gaussian_elimination for further details.\n",
    "    \"\"\"\n",
    "    a = np.array(a)\n",
    "    n = np.shape(a)[0]\n",
    "    p = np.shape(a)[1]\n",
    "    tot = 0\n",
    "    if n == 1:\n",
    "        return a[0][0]\n",
    "\n",
    "    if n != p:\n",
    "        return None\n",
    "\n",
    "    for i in range(p):\n",
    "\n",
    "        newrow = np.delete(a, 1, 0)\n",
    "        newrow = np.delete(newrow, i, 1)\n",
    "        tot += (-1) ** (i+1) * det(newrow) * a[1, i]\n",
    "\n",
    "    return tot"
   ]
  },
  {
   "cell_type": "code",
   "execution_count": 36,
   "id": "43fa4cf3",
   "metadata": {},
   "outputs": [
    {
     "name": "stdout",
     "output_type": "stream",
     "text": [
      "86\n"
     ]
    }
   ],
   "source": [
    "# result of deteminant\n",
    "b = [[2, 2, -3], [1, 5, 3], [2, -4, 1]]\n",
    "result = f.det(b)\n",
    "print(result)"
   ]
  },
  {
   "cell_type": "code",
   "execution_count": 37,
   "id": "4c4bddc8",
   "metadata": {},
   "outputs": [],
   "source": [
    "def adj(A):\n",
    "    \"\"\"\n",
    "    Given a martix `A`, return its adjugate matrix or `None` if its\n",
    "    matrix size is not square\n",
    "\n",
    "    Parameters\n",
    "    ----------\n",
    "    A : np.array or list of lists\n",
    "        'n x m' array\n",
    "\n",
    "    Returns\n",
    "    -------\n",
    "    new : np.array or None\n",
    "        The adjugate of A.\n",
    "\n",
    "    Examples\n",
    "    --------\n",
    "    >>> a = [[1, 0, -1], [-2, 3, 0], [1, -3, 2]]\n",
    "    >>> d = adj(a)\n",
    "    >>> d\n",
    "    array([[6., 3., 3.],\n",
    "           [4., 3., 2.],\n",
    "           [3., 3., 3.]])\n",
    "    \"\"\"\n",
    "    A = np.array(A)\n",
    "    n = np.shape(A)[0]\n",
    "    m = np.shape(A)[1]\n",
    "    if n != m:\n",
    "        return None\n",
    "    new = np.zeros((n, m))\n",
    "    for i in range(n):\n",
    "        for j in range(m):\n",
    "            newrow = np.delete(A, i, 0)\n",
    "            newrow = np.delete(newrow, j, 1)\n",
    "            new[i][j] = (-1) ** (i + j) * det(newrow)\n",
    "\n",
    "    new = np.transpose(new)\n",
    "    return new"
   ]
  },
  {
   "cell_type": "code",
   "execution_count": 38,
   "id": "e3f7a0d2",
   "metadata": {},
   "outputs": [
    {
     "name": "stdout",
     "output_type": "stream",
     "text": [
      "[[6. 3. 3.]\n",
      " [4. 3. 2.]\n",
      " [3. 3. 3.]]\n"
     ]
    }
   ],
   "source": [
    "#result of adjugate \n",
    "a = [[1, 0, -1], [-2, 3, 0], [1, -3, 2]]\n",
    "d = f.adj(a)\n",
    "print(d)"
   ]
  },
  {
   "cell_type": "code",
   "execution_count": 39,
   "id": "b668260c",
   "metadata": {},
   "outputs": [],
   "source": [
    "def inv(a):\n",
    "    \"\"\"\n",
    "    Given a martix `a`, return its inverse matrix or `None` if its\n",
    "    matrix size is not square\n",
    "\n",
    "    Parameters\n",
    "    ----------\n",
    "    a : np.array or list of lists\n",
    "        'n x m' array\n",
    "\n",
    "    Returns\n",
    "    -------\n",
    "    new : np.array or None\n",
    "        The inverse of a.\n",
    "\n",
    "    Examples\n",
    "    --------\n",
    "    >>> a = [[1, 0, -1], [-2, 3, 0], [1, -3, 2]]\n",
    "    >>> d = inv(a)\n",
    "    >>> d\n",
    "    array([[2.        , 1.        , 1.        ],\n",
    "           [1.33333333, 1.        , 0.66666667],\n",
    "           [1.        , 1.        , 1.        ]])\n",
    "    \"\"\"\n",
    "    A = np.array(a)\n",
    "    n = np.shape(A)[0]\n",
    "    m = np.shape(A)[1]\n",
    "    if n != m or det(a) == 0:\n",
    "        return None\n",
    "\n",
    "    new = 1/det(a) * adj(a)\n",
    "\n",
    "    return new"
   ]
  },
  {
   "cell_type": "code",
   "execution_count": 40,
   "id": "4304404b",
   "metadata": {},
   "outputs": [
    {
     "data": {
      "text/plain": [
       "array([[2.        , 1.        , 1.        ],\n",
       "       [1.33333333, 1.        , 0.66666667],\n",
       "       [1.        , 1.        , 1.        ]])"
      ]
     },
     "execution_count": 40,
     "metadata": {},
     "output_type": "execute_result"
    }
   ],
   "source": [
    "#result of inverse matrix\n",
    "a = [[1, 0, -1], [-2, 3, 0], [1, -3, 2]]\n",
    "d = f.inv(a)\n",
    "d"
   ]
  },
  {
   "cell_type": "code",
   "execution_count": 41,
   "id": "8f43a321",
   "metadata": {},
   "outputs": [],
   "source": [
    "def mult(A, B):\n",
    "    \"\"\"\n",
    "    Given two matrix A and B , return its multiplication or\n",
    "    None if the column length of A are not equal to row\n",
    "    length of B  .\n",
    "\n",
    "    Parameters\n",
    "    ----------\n",
    "    A : np.array or list of lists\n",
    "        'n x m' array\n",
    "    B : np.array or list of lists\n",
    "        'm x k ' array\n",
    "\n",
    "    Returns\n",
    "    -------\n",
    "    mult : np.array or None\n",
    "        The multiplication of A and B , the size should be 'n x k' .\n",
    "\n",
    "    Examples\n",
    "    --------\n",
    "    >>> A = np.array([[1, 2],[3, 4]])\n",
    "    >>> B = np.array([[5], [6]])\n",
    "    >>> D = mult(A, B)\n",
    "    >>> D\n",
    "    array([[17.],\n",
    "           [39.]])\n",
    "    \"\"\"\n",
    "    rowA, rowB = np.size(A, 0), np.size(B, 0)\n",
    "    colA, colB = np.size(A, 1), np.size(B, 1)\n",
    "    if colA != rowB:\n",
    "        return None\n",
    "    new_array = np.zeros((rowA, colB))\n",
    "    for i in range(rowA):\n",
    "        for j in range(colB):\n",
    "            for k in range(rowB):\n",
    "                new_array[i][j] += A[i][k] * B[k][j]\n",
    "    return new_array"
   ]
  },
  {
   "cell_type": "code",
   "execution_count": 42,
   "id": "f4fcd717",
   "metadata": {},
   "outputs": [
    {
     "name": "stdout",
     "output_type": "stream",
     "text": [
      "[[17.]\n",
      " [39.]]\n"
     ]
    }
   ],
   "source": [
    "#result of two matrix multiplication\n",
    "a = [[1, 2],[3, 4]]\n",
    "b = [[5], [6]]\n",
    "result = f.mult(a, b)\n",
    "print(result)"
   ]
  },
  {
   "cell_type": "code",
   "execution_count": 43,
   "id": "f0e401ba",
   "metadata": {},
   "outputs": [],
   "source": [
    "def solve(a, b):\n",
    "    \"\"\"\n",
    "    Given martix `a` and `b`, when ax = b, return x or None\n",
    "    if a is square matrix or det(a) is zero\n",
    "\n",
    "    Parameters\n",
    "    ----------\n",
    "    a : np.array or list of lists\n",
    "        'n x m' array\n",
    "\n",
    "    Returns\n",
    "    -------\n",
    "    new : np.array or None\n",
    "        The inverse of a.\n",
    "\n",
    "    Examples\n",
    "    --------\n",
    "    >>> a = [[1, 0, -1], [-2, 3, 0], [1, -3, 2]]\n",
    "    >>> b = [[1],[2],[-1]]\n",
    "    >>> d = solve(a, b)\n",
    "    >>> d\n",
    "    array([[3.        ],\n",
    "           [2.66666667],\n",
    "           [2.        ]])\n",
    "    \"\"\"\n",
    "    n = np.shape(a)[0]\n",
    "    m = np.shape(a)[1]\n",
    "    b = np.array(b)\n",
    "    a = np.array(a)\n",
    "    res = np.zeros((n, 1))\n",
    "    if n != m:\n",
    "        return None\n",
    "    if det(a) != 0:\n",
    "        for j in range(n):\n",
    "            c = np.array(a)\n",
    "            c[(slice(None, None, 1), slice(j, j + 1, 1))] = b\n",
    "            res[j, :] = det(c)\n",
    "        result = 1 / det(a) * res\n",
    "        return result\n",
    "    else:\n",
    "        return None"
   ]
  },
  {
   "cell_type": "code",
   "execution_count": 44,
   "id": "6fad09e4",
   "metadata": {},
   "outputs": [
    {
     "name": "stdout",
     "output_type": "stream",
     "text": [
      "[[3.        ]\n",
      " [2.66666667]\n",
      " [2.        ]]\n"
     ]
    }
   ],
   "source": [
    "#result of solve linear equation\n",
    "a = [[1, 0, -1], [-2, 3, 0], [1, -3, 2]]\n",
    "b = [[1],[2],[-1]]\n",
    "result = f.solve(a, b)\n",
    "print(result)"
   ]
  },
  {
   "cell_type": "code",
   "execution_count": null,
   "id": "826a6933",
   "metadata": {},
   "outputs": [],
   "source": []
  }
 ],
 "metadata": {
  "kernelspec": {
   "display_name": "Python 3 (ipykernel)",
   "language": "python",
   "name": "python3"
  },
  "language_info": {
   "codemirror_mode": {
    "name": "ipython",
    "version": 3
   },
   "file_extension": ".py",
   "mimetype": "text/x-python",
   "name": "python",
   "nbconvert_exporter": "python",
   "pygments_lexer": "ipython3",
   "version": "3.10.4"
  }
 },
 "nbformat": 4,
 "nbformat_minor": 5
}
