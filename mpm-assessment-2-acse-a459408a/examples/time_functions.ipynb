{
 "cells": [
  {
   "cell_type": "code",
   "execution_count": 14,
   "id": "dc242939",
   "metadata": {},
   "outputs": [],
   "source": [
    "import functions as f \n",
    "import numpy as np\n",
    "import timeit"
   ]
  },
  {
   "cell_type": "code",
   "execution_count": 20,
   "id": "ae50354b",
   "metadata": {},
   "outputs": [],
   "source": [
    "n = 1 \n",
    "res = []\n",
    "for i in range(n, n + 10):\n",
    "    a = np.random.randint(5, size=(i, i))\n",
    "    det = f.det(a)\n",
    "    while det == 0 or det is None:\n",
    "        a = np.random.randint(5, size=(i, i))\n",
    "        det = f.det(a)\n",
    "    res.append(a)"
   ]
  },
  {
   "cell_type": "code",
   "execution_count": 29,
   "id": "9f6eac66",
   "metadata": {},
   "outputs": [],
   "source": [
    "mult_inv = []\n",
    "sol = []\n",
    "npsolve = []\n",
    "for i in range(10):\n",
    "    a = res[i]\n",
    "    b = res[i][(slice(None, None, 1), slice(0, 1, 1))]\n",
    "    mult_time = timeit.timeit(lambda: f.mult(f.inv(a), b), number = 1)\n",
    "    mult_inv.append(mult_time)\n",
    "    solve = timeit.timeit(lambda: f.solve(a, b), number = 1)\n",
    "    sol.append(solve)\n",
    "    nsolve = timeit.timeit(lambda: np.linalg.solve(a, b), number = 1)\n",
    "    npsolve.append(nsolve)\n",
    "    # solve = f.solve(a, b)\n",
    "    # solve = %timeit -o solve\n",
    "    # sol.append(timeit.timeit(f.solve(a, b), number = 1))\n",
    "    # # nsolve = np.linalg.solve(a, b)\n",
    "    # # nsolve = %timeit -o nsolve\n",
    "    # npsolve.append(timeit.timeit(np.linalg.solve(a, b), number = 1))"
   ]
  },
  {
   "cell_type": "code",
   "execution_count": 30,
   "id": "455f323a",
   "metadata": {},
   "outputs": [
    {
     "name": "stdout",
     "output_type": "stream",
     "text": [
      "       mult_inverse     f.solve  np.linalg.solve\n",
      "1x1        0.000154    0.000088         0.000036\n",
      "2x2        0.000388    0.000366         0.000022\n",
      "3x3        0.000984    0.001028         0.000036\n",
      "4x4        0.004138    0.003389         0.000036\n",
      "5x5        0.010480    0.009411         0.000028\n",
      "6x6        0.052072    0.048453         0.000027\n",
      "7x7        0.384635    0.398873         0.000035\n",
      "8x8        3.400869    3.387611         0.000027\n",
      "9x9       33.683165   34.041686         0.000028\n",
      "10x10    368.595958  367.120829         0.000083\n"
     ]
    }
   ],
   "source": [
    "import pandas as pd\n",
    "data = pd.DataFrame({'mult_inverse': mult_inv, 'f.solve': sol, 'np.linalg.solve': npsolve}, index = [f\"{i+1}x{i+1}\" for i in range(10)])\n",
    "print(data) "
   ]
  },
  {
   "cell_type": "code",
   "execution_count": null,
   "id": "a9ef58b3",
   "metadata": {},
   "outputs": [],
   "source": [
    "n_solve = []\n",
    "for i in range(10):\n",
    "    a = res[i]\n",
    "    b = res[i][(slice(None, None, 1), slice(0, 1, 1))]\n",
    "    new = timeit.timeit(lambda: f.new_solve(a, b), number = 1)\n",
    "    n_solve.append(new)\n",
    "\n",
    "data = pd.DataFrame({'mult_inverse': mult_inv, 'f.solve': sol, 'np.linalg.solve': npsolve, 'new_solve': n_solve}, index = [f\"{i+1}x{i+1}\" for i in range(10)])\n",
    "print(data) "
   ]
  }
 ],
 "metadata": {
  "kernelspec": {
   "display_name": "Python 3.10.4 ('ese-msc')",
   "language": "python",
   "name": "python3"
  },
  "language_info": {
   "codemirror_mode": {
    "name": "ipython",
    "version": 3
   },
   "file_extension": ".py",
   "mimetype": "text/x-python",
   "name": "python",
   "nbconvert_exporter": "python",
   "pygments_lexer": "ipython3",
   "version": "3.10.4"
  },
  "vscode": {
   "interpreter": {
    "hash": "0e1283531a1f39d343cb553b47f07f849b39febec36403cbff9bb62bd2cbf7db"
   }
  }
 },
 "nbformat": 4,
 "nbformat_minor": 5
}
