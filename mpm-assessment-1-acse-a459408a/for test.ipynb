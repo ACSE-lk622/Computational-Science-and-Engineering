{
 "cells": [
  {
   "cell_type": "code",
   "execution_count": 89,
   "metadata": {},
   "outputs": [],
   "source": [
    "\"\"\"Implementations of Lorenz 96 and Conway's\n",
    "Game of Life on various meshes\"\"\"\n",
    "\n",
    "import numpy as np\n",
    "import scipy\n",
    "import matplotlib.pyplot as plt\n",
    "from matplotlib.patches import Polygon\n",
    "\n",
    "def life(initial_state, nsteps):\n",
    "    \"\"\"\n",
    "    Perform iterations of Conway’s Game of Life.\n",
    "    Parameters\n",
    "    ----------\n",
    "    initial_state : array_like or list of lists\n",
    "        Initial 2d state of grid in an array of booleans.\n",
    "    nsteps : int\n",
    "        Number of steps of Life to perform.\n",
    "    Returns\n",
    "    -------\n",
    "    numpy.ndarray\n",
    "         Final state of grid in array of booleans\n",
    "    \"\"\"\n",
    "\n",
    "    # write your code here to replace return statement\n",
    "    init_row, init_col = len(initial_state), len(initial_state[0])\n",
    "    new_state = np.zeros((init_row, init_col))\n",
    "    while nsteps > 0:\n",
    "        for row in range(init_row):\n",
    "            for col in range(init_col):\n",
    "                cur_cell = initial_state[row][col]\n",
    "                sur_cell = number_neighbor(initial_state, init_row, init_col, row, col)\n",
    "                if cur_cell:\n",
    "                    if sur_cell <= 1 or sur_cell > 3:\n",
    "                        cur_cell = False\n",
    "                    elif sur_cell <= 3:\n",
    "                        cur_cell = True\n",
    "\n",
    "                else:\n",
    "                    if sur_cell == 3:\n",
    "                        cur_cell = True\n",
    "                    else:\n",
    "                        cur_cell = False\n",
    "                new_state[row][col] = cur_cell\n",
    "        initial_state = np.copy(new_state)\n",
    "        nsteps -= 1\n",
    "    return new_state\n",
    "# function to calculate the number of neighbor which is true\n",
    "def number_neighbor(x, m, n, row, col):\n",
    "    count = 0\n",
    "    for i in range(row - 1, row + 2):\n",
    "        for j in range(col - 1, col + 2):\n",
    "            if 0 <= i < m and 0 <= j < n and x[i][j]:\n",
    "                count += 1\n",
    "    if x[row][col]:\n",
    "        count -= 1\n",
    "    return count\n",
    "\n",
    "\n",
    "def life_periodic(initial_state, nsteps):\n",
    "    \"\"\"\n",
    "    Perform iterations of Conway's Game of Life on a doubly periodic mesh.\n",
    "\n",
    "    Parameters\n",
    "    ----------\n",
    "    initial_state : array_like or list of lists\n",
    "        Initial 2d state of grid in an array of booleans.\n",
    "    nsteps : int\n",
    "        Number of steps of Life to perform.\n",
    "\n",
    "    Returns\n",
    "    -------\n",
    "\n",
    "    numpy.ndarray\n",
    "         Final state of grid in array of booleans\n",
    "    \"\"\"\n",
    "\n",
    "    # write your code here to replace this return statement\n",
    "    row, col = len(initial_state), len(initial_state[0])\n",
    "    while nsteps > 0 :\n",
    "        after_state = life(initial_state,1)\n",
    "        initial_state = np.array(initial_state)\n",
    "        new_state = np.zeros((row+2,col+2))\n",
    "        new_state[1:row+1,1:col+1] = initial_state\n",
    "        new_state[1:row+1,-1]= initial_state[:,0]\n",
    "        new_state[1:row+1,0] = initial_state[:,-1]\n",
    "        new_state[-1,1:col+1] = initial_state[0,:]\n",
    "        new_state[0,1:col+1] = initial_state[-1,:]\n",
    "        new_state[0,0] = initial_state[-1,-1]\n",
    "        new_state[-1,-1] = initial_state[0,0]\n",
    "        new_state[0,-1] = initial_state[-1,0]\n",
    "        new_state[-1,0] = initial_state[0,-1]\n",
    "        print(initial_state)\n",
    "        new_state = life(new_state,1)\n",
    "        print(new_state)\n",
    "        initial_state = new_state[1:row+1,1:col+1]\n",
    "        nsteps -= 1\n",
    "    return initial_state\n",
    "\n",
    "\n",
    "\n",
    "    \n",
    "\n",
    "    \n",
    "def lifepent(initial_state, nsteps):\n",
    "    \"\"\"\n",
    "    Perform iterations of Conway's Game of Life on\n",
    "    a pentagonal tessellation.\n",
    "\n",
    "    Parameters\n",
    "    ----------\n",
    "    initial_state : array_like or list of lists\n",
    "        Initial state of grid of pentagons.\n",
    "    nsteps : int\n",
    "        Number of steps of Life to perform.\n",
    "\n",
    "    Returns\n",
    "    -------\n",
    "\n",
    "    numpy.ndarray\n",
    "         Final state of tessellation.\n",
    "    \"\"\"\n",
    "\n",
    "    # write your code here to replace return this statement\n",
    "    row, col = len(initial_state), len(initial_state[0])\n",
    "    new_arr = np.zeros((row + 2, col + 4))\n",
    "    new_arr[1:-1, 2:-2] = initial_state\n",
    "\n",
    "    while nsteps > 0:\n",
    "        update_arr = np.zeros((row + 2, col + 4))\n",
    "        count = 0 \n",
    "        for i in range(1,row + 1):\n",
    "            for j in range(2,col + 2):\n",
    "                cur = new_arr[i][j]\n",
    "                sur = np.sum(new_arr[i - 1:i + 2, j - 1:j + 2])\n",
    "                count = sur - cur \n",
    "                count = check_sur(new_arr,count,i,j)\n",
    "                if cur :\n",
    "                    if count == 2 or count == 3:\n",
    "                        update_arr[i][j] = 1\n",
    "                else:\n",
    "                    if count == 3 or count == 4 or count == 6:\n",
    "                        update_arr[i][j] = 1\n",
    "        new_arr = update_arr\n",
    "        nsteps -= 1\n",
    "    return new_arr[1:row + 1, 2:col + 2]\n",
    "\n",
    "\n",
    "\n",
    "def check_sur(x,count,i,j):\n",
    "    if i % 2 != 0 :\n",
    "        if j % 2 != 0:\n",
    "            count -= x[i - 1][j - 1]\n",
    "        else:\n",
    "            count -= x[i + 1][j - 1]\n",
    "    else:\n",
    "        if j % 2 != 0:\n",
    "            count -= x[i - 1][j + 1]\n",
    "        else:\n",
    "            count -= x[i + 1][j + 1]\n",
    "    return count\n"
   ]
  },
  {
   "cell_type": "code",
   "execution_count": 98,
   "metadata": {},
   "outputs": [
    {
     "data": {
      "text/plain": [
       "array([[0., 0., 0., 0.],\n",
       "       [0., 0., 1., 0.],\n",
       "       [1., 0., 0., 1.],\n",
       "       [1., 0., 0., 1.],\n",
       "       [1., 1., 1., 0.]])"
      ]
     },
     "execution_count": 98,
     "metadata": {},
     "output_type": "execute_result"
    }
   ],
   "source": [
    "lifepent([[1,1,0,0],[1,1,1,0],[1,0,0,1],[1,0,0,1],[1,1,1,0,]],2)"
   ]
  },
  {
   "cell_type": "code",
   "execution_count": 39,
   "metadata": {},
   "outputs": [
    {
     "name": "stdout",
     "output_type": "stream",
     "text": [
      "4\n"
     ]
    },
    {
     "data": {
      "text/plain": [
       "(4, 1)"
      ]
     },
     "execution_count": 39,
     "metadata": {},
     "output_type": "execute_result"
    }
   ],
   "source": [
    "number_color([[0,0,0,0],[0,0,1,0],[1,0,0,1],[1,0,0,1],[1,1,1,0]],3,4,0,1)"
   ]
  },
  {
   "cell_type": "code",
   "execution_count": null,
   "metadata": {},
   "outputs": [],
   "source": []
  }
 ],
 "metadata": {
  "kernelspec": {
   "display_name": "Python 3.10.4 ('ese-msc')",
   "language": "python",
   "name": "python3"
  },
  "language_info": {
   "codemirror_mode": {
    "name": "ipython",
    "version": 3
   },
   "file_extension": ".py",
   "mimetype": "text/x-python",
   "name": "python",
   "nbconvert_exporter": "python",
   "pygments_lexer": "ipython3",
   "version": "3.10.4"
  },
  "orig_nbformat": 4,
  "vscode": {
   "interpreter": {
    "hash": "0e1283531a1f39d343cb553b47f07f849b39febec36403cbff9bb62bd2cbf7db"
   }
  }
 },
 "nbformat": 4,
 "nbformat_minor": 2
}
